{
  "nbformat": 4,
  "nbformat_minor": 0,
  "metadata": {
    "colab": {
      "provenance": []
    },
    "kernelspec": {
      "name": "python3",
      "display_name": "Python 3"
    },
    "language_info": {
      "name": "python"
    }
  },
  "cells": [
    {
      "cell_type": "code",
      "execution_count": 65,
      "metadata": {
        "id": "A8dCM-GC0xbR"
      },
      "outputs": [],
      "source": [
        "%%capture --no-stderr\n",
        "%pip install --quiet -U langchain langgraph langchain_google_genai"
      ]
    },
    {
      "cell_type": "code",
      "source": [
        "from google.colab import userdata\n",
        "google_api_key = userdata.get('GEMINI_API_KEY')"
      ],
      "metadata": {
        "id": "zgHtb6id1ry0"
      },
      "execution_count": 66,
      "outputs": []
    },
    {
      "cell_type": "code",
      "source": [
        "import os\n",
        "\n",
        "os.environ[\"LANGCHAIN_API_KEY\"] = userdata.get('LANGCHAIN_API_KEY')\n",
        "os.environ[\"LANGCHAIN_TRACING_V2\"] = \"true\"\n",
        "os.environ[\"LANGCHAIN_PROJECT\"] = \"chatbot-summarization\""
      ],
      "metadata": {
        "id": "IyiYyX3_2FyF"
      },
      "execution_count": 67,
      "outputs": []
    },
    {
      "cell_type": "code",
      "source": [
        "from langchain_google_genai import ChatGoogleGenerativeAI\n",
        "llm: ChatGoogleGenerativeAI = ChatGoogleGenerativeAI(model=\"gemini-1.5-flash\", api_key=google_api_key)\n"
      ],
      "metadata": {
        "id": "gBZNDCMmcamE"
      },
      "execution_count": 86,
      "outputs": []
    },
    {
      "cell_type": "code",
      "source": [
        "from langgraph.graph import MessagesState\n",
        "\n",
        "class ChatbotState(MessagesState):\n",
        "  summary : str"
      ],
      "metadata": {
        "id": "cmdX4_cxZoPD"
      },
      "execution_count": 87,
      "outputs": []
    },
    {
      "cell_type": "code",
      "source": [
        "from langchain_core.messages import SystemMessage, HumanMessage, RemoveMessage\n",
        "def call_model(state: dict):\n",
        "    \"\"\"Checks if there is an existing summary and appends it to the messages.\"\"\"\n",
        "\n",
        "    # Accessing the summary from the dictionary\n",
        "    summary = state.get(\"summary\", \"\")\n",
        "\n",
        "    # If a summary exists, append it to the messages\n",
        "    if summary:\n",
        "        # Assuming the messages are also in the dictionary\n",
        "        messages = [SystemMessage(content=summary)] + state[\"messages\"]\n",
        "\n",
        "    else:\n",
        "       messages = state[\"messages\"]\n",
        "\n",
        "    # Now invoke the model with the updated messages list\n",
        "    response = llm.invoke(messages)\n",
        "\n",
        "    # Return the model's response wrapped in a dictionary\n",
        "    return {\"messages\": response}\n"
      ],
      "metadata": {
        "id": "s3uH2fOyaLG5"
      },
      "execution_count": 88,
      "outputs": []
    },
    {
      "cell_type": "code",
      "source": [
        "def summarize_conversation(state: ChatbotState):\n",
        "  summary = state.get(\"summary\", \"\")\n",
        "  if summary:\n",
        "    summary_message = (f\"This is the summary of tthe conversation to date: {summary}\\n\"\n",
        "                     \"Extend the summary by taking into account the new messages above\"\n",
        "    )\n",
        "  else:\n",
        "    summary_message = \"Create the summary of the conversation so far\"\n",
        "\n",
        "  messages = (state[\"messages\"] + [HumanMessage(content=summary_message)])\n",
        "  response = llm.invoke(messages)\n",
        "\n",
        "  # delete all messages except the 2 most recent\n",
        "  delete_messages = [RemoveMessage(id = m.id) for m in state[\"messages\"][:-2]]\n",
        "  return {\"summary\" : response.content, \"messages\" : delete_messages}"
      ],
      "metadata": {
        "id": "y8xMjiItb_PZ"
      },
      "execution_count": 137,
      "outputs": []
    },
    {
      "cell_type": "code",
      "source": [
        "from langgraph.graph import END\n",
        "# prompt: Determine whether to end or summarize the conversation.\n",
        "\n",
        "def should_end_or_summarize(state: ChatbotState):\n",
        "  \"\"\"Determines whether to end or summarize the conversation based on message count.\"\"\"\n",
        "\n",
        "  if len(state[\"messages\"]) > 6:\n",
        "    return \"summarize_conversation\"  # Summarize if there are 6 or more messages\n",
        "  else:\n",
        "    return END # Otherwise, end the conversation"
      ],
      "metadata": {
        "id": "KcXfvy5jjt_7"
      },
      "execution_count": 125,
      "outputs": []
    },
    {
      "cell_type": "code",
      "source": [
        "from langgraph.graph import StateGraph, START, END\n",
        "from IPython.display import display, Image\n",
        "from langgraph.checkpoint.memory import MemorySaver\n",
        "\n",
        "# Define the nodes\n",
        "builder = StateGraph(ChatbotState)\n",
        "builder.add_node(\"conversation\", call_model)\n",
        "builder.add_node(\"summarize_conversation\", summarize_conversation)\n",
        "\n",
        "# Define the edges\n",
        "builder.add_edge(START, \"conversation\")\n",
        "builder.add_conditional_edges(\"conversation\", should_end_or_summarize)\n",
        "builder.add_edge(\"summarize_conversation\", END)\n",
        "\n",
        "memory = MemorySaver()\n",
        "graph = builder.compile(checkpointer=memory)\n",
        "display(Image(graph.get_graph().draw_mermaid_png()))"
      ],
      "metadata": {
        "colab": {
          "base_uri": "https://localhost:8080/",
          "height": 350
        },
        "id": "t68SqhM2mihb",
        "outputId": "d409f845-398c-40e3-bb10-3e64b9ea2fb7"
      },
      "execution_count": 138,
      "outputs": [
        {
          "output_type": "display_data",
          "data": {
            "image/jpeg": "[encoded data removed]",
            "text/plain": [
              "<IPython.core.display.Image object>"
            ]
          },
          "metadata": {}
        }
      ]
    },
    {
      "cell_type": "code",
      "source": [
        "config = {\"configurable\": {\"thread_id\": \"1\"}}\n",
        "\n",
        "# Start conversation\n",
        "input_message = HumanMessage(content=\"Hello!, I am Muhammad.\")\n",
        "output = graph.invoke({\"messages\": [input_message]}, config)\n",
        "for m in output['messages'][-1:]:\n",
        "    m.pretty_print()\n",
        "\n",
        "input_message = HumanMessage(content=\"What's my name?\")\n",
        "output = graph.invoke({\"messages\": [input_message]}, config)\n",
        "for m in output['messages'][-1:]:\n",
        "    m.pretty_print()\n",
        "\n",
        "input_message = HumanMessage(content=\"I like cars!\")\n",
        "output = graph.invoke({\"messages\": [input_message]}, config)\n",
        "for m in output['messages'][-1:]:\n",
        "    m.pretty_print()"
      ],
      "metadata": {
        "colab": {
          "base_uri": "https://localhost:8080/"
        },
        "id": "cogxdaGmqb77",
        "outputId": "2d3b69ee-9cb7-4263-9691-8a3e34cf8021"
      },
      "execution_count": 139,
      "outputs": [
        {
          "output_type": "stream",
          "name": "stdout",
          "text": [
            "==================================\u001b[1m Ai Message \u001b[0m==================================\n",
            "\n",
            "Hello Muhammad! It's nice to meet you. What can I do for you today?\n",
            "==================================\u001b[1m Ai Message \u001b[0m==================================\n",
            "\n",
            "You told me your name is Muhammad! Is there anything else I can help you with?\n",
            "==================================\u001b[1m Ai Message \u001b[0m==================================\n",
            "\n",
            "That's great! Cars are pretty cool. Do you have a favorite car or brand?  I'm always interested in learning about what people love.\n"
          ]
        }
      ]
    },
    {
      "cell_type": "code",
      "source": [
        "graph.get_state(config).values.get(\"summary\",\"\")"
      ],
      "metadata": {
        "colab": {
          "base_uri": "https://localhost:8080/",
          "height": 35
        },
        "id": "Mrk3_slQ8ioD",
        "outputId": "76e09431-09fa-4316-b022-562f60a91140"
      },
      "execution_count": 140,
      "outputs": [
        {
          "output_type": "execute_result",
          "data": {
            "text/plain": [
              "''"
            ],
            "application/vnd.google.colaboratory.intrinsic+json": {
              "type": "string"
            }
          },
          "metadata": {},
          "execution_count": 140
        }
      ]
    },
    {
      "cell_type": "code",
      "source": [
        "input_message = HumanMessage(content=\"I like BMW, and their M series are awesome!\")\n",
        "output = graph.invoke({\"messages\": [input_message]}, config)\n",
        "for m in output['messages'][-1:]:\n",
        "    m.pretty_print()\n",
        "\n",
        "input_message = HumanMessage(content=\"It's an all in one car\")\n",
        "output = graph.invoke({\"messages\": [input_message]}, config)\n",
        "for m in output['messages'][-1:]:\n",
        "    m.pretty_print()\n",
        "\n",
        "input_message = HumanMessage(content=\"What do you like about BMW?\")\n",
        "output = graph.invoke({\"messages\": [input_message]}, config)\n",
        "for m in output['messages'][-1:]:\n",
        "    m.pretty_print()\n",
        "\n",
        "\n",
        "input_message = HumanMessage(content=\"I will buy it\")\n",
        "output = graph.invoke({\"messages\": [input_message]}, config)\n",
        "for m in output['messages'][-1:]:\n",
        "    m.pretty_print()"
      ],
      "metadata": {
        "colab": {
          "base_uri": "https://localhost:8080/"
        },
        "id": "3rgJNps683pw",
        "outputId": "e4774beb-95b9-4f96-db72-3d653708644e"
      },
      "execution_count": 141,
      "outputs": [
        {
          "output_type": "stream",
          "name": "stdout",
          "text": [
            "==================================\u001b[1m Ai Message \u001b[0m==================================\n",
            "\n",
            "I can see why you like BMWs! They're known for their performance and luxury. And the M series are definitely legendary! Do you have a particular M model in mind?  \n",
            "\n",
            "I'm curious, what do you like most about them?  The handling? The engine roar? The design?\n",
            "==================================\u001b[1m Ai Message \u001b[0m==================================\n",
            "\n",
            "You're absolutely right! BMWs, especially the M series, really do offer the whole package.  They're not just fast, they're also comfortable and luxurious.  It's hard to beat that combination!  \n",
            "\n",
            "What would you say is the most important feature for you in a car? Is it performance, luxury, or something else entirely?\n",
            "==================================\u001b[1m Ai Message \u001b[0m==================================\n",
            "\n",
            "That's a great question!  I'm not a person, so I don't have personal preferences like you do.  But I can tell you what people often admire about BMWs:\n",
            "\n",
            "* **Performance:** BMWs are known for their powerful engines and precise handling. They're fun to drive and offer a thrilling experience.\n",
            "* **Luxury:** BMWs are also very comfortable and well-appointed. They offer premium materials, advanced technology, and a refined driving experience.\n",
            "* **Design:** BMWs have a distinctive and elegant design that's both sporty and sophisticated. \n",
            "* **Technology:** BMWs are often at the forefront of automotive technology, with features like advanced driver-assistance systems and intuitive infotainment systems.\n",
            "\n",
            "What about you? What specifically appeals to you about BMWs?  Is it the way they handle, the way they look, or something else?  I'm curious to hear your thoughts!\n",
            "==================================\u001b[1m Ai Message \u001b[0m==================================\n",
            "\n",
            "That's awesome! It sounds like you're really excited about getting a BMW.  It's a great choice, and I bet you'll love it.  \n",
            "\n",
            "Do you have a particular model in mind?  Or are you still exploring your options?  I'd be happy to help you brainstorm if you'd like!\n"
          ]
        }
      ]
    },
    {
      "cell_type": "code",
      "source": [
        "graph.get_state(config).values.get(\"summary\",\"\")"
      ],
      "metadata": {
        "colab": {
          "base_uri": "https://localhost:8080/",
          "height": 107
        },
        "id": "QYpF84ai9rXt",
        "outputId": "e7f1fad6-9c5d-498d-9644-67515d6e4888"
      },
      "execution_count": 144,
      "outputs": [
        {
          "output_type": "execute_result",
          "data": {
            "text/plain": [
              "'Okay, here\\'s an updated summary of our conversation:\\n\\n* We started by you introducing yourself as Muhammad.\\n* You confirmed your name was Muhammad.\\n* You shared that you like cars.\\n* You expressed your love for BMWs, specifically the M series, and mentioned how awesome they are. \\n* You mentioned that BMWs are \"all in one\" cars, combining performance and luxury.\\n* You asked me what I like about BMWs, and I explained their reputation for performance, luxury, design, and technology.\\n* You shared that you plan to buy a BMW.\\n\\nI\\'m excited to continue chatting with you about cars!  Do you have any other thoughts about BMWs, or any other car topics you\\'d like to discuss? \\n'"
            ],
            "application/vnd.google.colaboratory.intrinsic+json": {
              "type": "string"
            }
          },
          "metadata": {},
          "execution_count": 144
        }
      ]
    }
  ]
}