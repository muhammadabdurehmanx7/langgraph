{
  "nbformat": 4,
  "nbformat_minor": 0,
  "metadata": {
    "colab": {
      "provenance": []
    },
    "kernelspec": {
      "name": "python3",
      "display_name": "Python 3"
    },
    "language_info": {
      "name": "python"
    }
  },
  "cells": [
    {
      "cell_type": "code",
      "execution_count": 1,
      "metadata": {
        "id": "H6mulvKlm-Q4"
      },
      "outputs": [],
      "source": [
        "%%capture --no-stderr\n",
        "%pip install --quiet -U langgraph\n",
        "%pip install -q -U langchain\n",
        "%pip install -q -U langchain-google-genai"
      ]
    },
    {
      "cell_type": "code",
      "source": [
        "from google.colab import userdata\n",
        "google_api_key = userdata.get('GEMINI_API_KEY')"
      ],
      "metadata": {
        "id": "xXYRx9sgnLp1"
      },
      "execution_count": 2,
      "outputs": []
    },
    {
      "cell_type": "code",
      "source": [
        "from langchain_google_genai import ChatGoogleGenerativeAI\n",
        "\n",
        "# Initialize an instance of the ChatGoogleGenerativeAI with specific parameters\n",
        "llm: ChatGoogleGenerativeAI = ChatGoogleGenerativeAI(\n",
        "    model=\"gemini-1.5-flash\",  # Specify the model to use\n",
        "    api_key=google_api_key,     # Provide the Google API key for authentication\n",
        ")"
      ],
      "metadata": {
        "id": "klH9V6E3nXE8"
      },
      "execution_count": 3,
      "outputs": []
    },
    {
      "cell_type": "code",
      "source": [
        "from typing_extensions import TypedDict\n",
        "\n",
        "class TextAnalysisState(TypedDict):\n",
        "    text: str\n",
        "    classification: str\n",
        "    entities : str\n",
        "    summary : str"
      ],
      "metadata": {
        "id": "tXHoQ-rmncJN"
      },
      "execution_count": 4,
      "outputs": []
    },
    {
      "cell_type": "code",
      "source": [
        "# Node 1: Classification\n",
        "def classification_node(state: TextAnalysisState) -> TextAnalysisState:\n",
        "  print(\"--Classification--\", state)\n",
        "  text: str = state[\"text\"]\n",
        "\n",
        "  prompt: str = \"\"\"\n",
        "    You are given a Text as input.\n",
        "\n",
        "    You need to categorize the text into one domain NEWS, ARTICLE, BLOG.\n",
        "\n",
        "    Just return the Category i.e: for news classification then return NEWS.\n",
        "\n",
        "    Text is: {text}\n",
        "    \"\"\"\n",
        "\n",
        "  output = llm.invoke(prompt.format(text=text))\n",
        "\n",
        "  return {\"classification\" : output.content}\n"
      ],
      "metadata": {
        "id": "k8VIkrAknxNg"
      },
      "execution_count": 52,
      "outputs": []
    },
    {
      "cell_type": "code",
      "source": [
        "# prompt: create a sample_state variable for TextAnalysisState\n",
        "\n",
        "sample_state: TextAnalysisState = {\n",
        "    \"text\": \"This is a sample text as an article.\",\n",
        "}\n"
      ],
      "metadata": {
        "id": "QYMUaFAp6pvM"
      },
      "execution_count": 33,
      "outputs": []
    },
    {
      "cell_type": "code",
      "source": [
        "output_node1 = classification_node(sample_state)\n",
        "print(output_node1)"
      ],
      "metadata": {
        "colab": {
          "base_uri": "https://localhost:8080/"
        },
        "id": "fy0hfz7y7Woz",
        "outputId": "897fbfd9-0f9b-496f-d437-6f4df4291786"
      },
      "execution_count": 9,
      "outputs": [
        {
          "output_type": "stream",
          "name": "stdout",
          "text": [
            "--Classification-- {'text': 'This is a sample text as an article.'}\n",
            "{'classification': 'ARTICLE \\n'}\n"
          ]
        }
      ]
    },
    {
      "cell_type": "code",
      "source": [
        "# Node 2: Extraction\n",
        "def entity_extraction_node(state: TextAnalysisState) -> TextAnalysisState:\n",
        "  print(\"--Extraction--\", state)\n",
        "  text: str = state[\"text\"]\n",
        "  classification : str = state[\"classification\"]\n",
        "\n",
        "\n",
        "  prompt: str = \"\"\"\n",
        "   You are given a Text as input.\n",
        "\n",
        "   You have to to extract the entities present in the text.\n",
        "   Your job is to return just the names of the entites present in JSON i.e {{\"entities\": [\"zia khan lives in karachi\"]}}\n",
        "\n",
        "   Text is: {text}\n",
        "\n",
        "   Classification is: {classification}\n",
        "\n",
        "   JSON OutPut Format: {{\"entities\": [\"1\"...]}}\n",
        "   \"\"\"\n",
        "\n",
        "  output = llm.invoke(prompt.format(text=text, classification=classification))\n",
        "  return{\"entities\" : output.content}"
      ],
      "metadata": {
        "id": "_k5hzsK-rxYO"
      },
      "execution_count": 53,
      "outputs": []
    },
    {
      "cell_type": "code",
      "source": [
        "# prompt: Run above entity_extraction with samples\n",
        "\n",
        "sample_state: TextAnalysisState = {\n",
        "    \"text\": \"This is a sample text about a news article.\",\n",
        "    \"classification\": \"NEWS\"\n",
        "}\n",
        "\n",
        "node_2_output = entity_extraction_node(sample_state)\n",
        "print(node_2_output)"
      ],
      "metadata": {
        "colab": {
          "base_uri": "https://localhost:8080/"
        },
        "id": "lrYKPUI49WzE",
        "outputId": "d210b4e7-b9e3-4134-f54d-db4015c5f787"
      },
      "execution_count": 54,
      "outputs": [
        {
          "output_type": "stream",
          "name": "stdout",
          "text": [
            "--Extraction-- {'text': 'This is a sample text about a news article.', 'classification': 'NEWS'}\n",
            "{'entities': '```json\\n{\"entities\": []}\\n```\\n\\nThe provided text \"This is a sample text about a news article.\" does not contain any named entities like people, locations, organizations, etc. Therefore, the output JSON is an empty list. \\n'}\n"
          ]
        }
      ]
    },
    {
      "cell_type": "code",
      "source": [
        "# Node 3: Summary\n",
        "def text_summary_node(state: TextAnalysisState) -> TextAnalysisState:\n",
        "  print(\"--Summary--\", state)\n",
        "  text: str = state[\"text\"]\n",
        "  classification : str = state[\"classification\"]\n",
        "  entities :str = state[\"entities\"]\n",
        "\n",
        "\n",
        "  prompt: str = \"\"\"\n",
        "    You are given a Text as input.\n",
        "\n",
        "    You have to generate the summary of the text under 150 words.\n",
        "\n",
        "    Text is: {text}\n",
        "\n",
        "    Classification is: {classification}\n",
        "\n",
        "    Entities is: {entities}\n",
        "    \"\"\"\n",
        "\n",
        "  output = llm.invoke(prompt.format(text=text, classification=classification, entities=entities))\n",
        "  return{\"summary\" : output.content}"
      ],
      "metadata": {
        "id": "LKcMy1Ff9N-H"
      },
      "execution_count": 55,
      "outputs": []
    },
    {
      "cell_type": "code",
      "source": [
        "# prompt: create a sample_state variable for the above TextAnalysisState\n",
        "\n",
        "sample_state: TextAnalysisState = {\n",
        "    \"text\": \"This is a sample text about a news article.\",\n",
        "    \"classification\": \"NEWS\",\n",
        "    \"entities\": \"['zia khan']\"\n",
        "}\n",
        "\n",
        "node_3_output = text_summary_node(sample_state)\n",
        "print(node_3_output)\n",
        "\n"
      ],
      "metadata": {
        "colab": {
          "base_uri": "https://localhost:8080/"
        },
        "id": "qPAgGq9a-y8_",
        "outputId": "0ceadf1e-009a-4fb4-f457-e2de4cdc0b39"
      },
      "execution_count": 29,
      "outputs": [
        {
          "output_type": "stream",
          "name": "stdout",
          "text": [
            "--Classification-- {'text': 'This is a sample text about a news article.', 'classification': 'NEWS', 'entities': \"['zia khan']\"}\n",
            "{'summary': \"This news article discusses an unspecified topic, potentially related to Zia Khan. However, without the actual text, it's impossible to provide a meaningful summary. Please provide the complete article for a more accurate summary. \\n\"}\n"
          ]
        }
      ]
    },
    {
      "cell_type": "code",
      "source": [
        "\n",
        "from langgraph.graph import StateGraph, START, END\n",
        "from langgraph.graph.state import CompiledStateGraph # type\n",
        "\n",
        "# Build graph\n",
        "builder: StateGraph = StateGraph(state_schema=TextAnalysisState)\n",
        "\n",
        "# Define Nodes\n",
        "builder.add_node(\"text_classification\", classification_node)\n",
        "builder.add_node(\"entity_extraction\", entity_extraction_node)\n",
        "builder.add_node(\"text_summary\", text_summary_node)\n",
        "\n",
        "# Add Edges\n",
        "builder.add_edge(START, \"text_classification\")\n",
        "builder.add_edge(\"text_classification\", \"entity_extraction\")\n",
        "builder.add_edge(\"entity_extraction\", \"text_summary\")\n",
        "builder.add_edge(\"text_summary\", END)\n",
        "\n",
        "# Compile Graph\n",
        "graph: CompiledStateGraph = builder.compile()"
      ],
      "metadata": {
        "id": "1DSChNG-PEhc"
      },
      "execution_count": 56,
      "outputs": []
    },
    {
      "cell_type": "code",
      "source": [
        "# View\n",
        "from IPython.display import Image, display # Preview Graph\n",
        "display(Image(graph.get_graph().draw_mermaid_png()))"
      ],
      "metadata": {
        "colab": {
          "base_uri": "https://localhost:8080/",
          "height": 449
        },
        "id": "G3DEizBzPgd5",
        "outputId": "81298406-7dbc-4c62-86b9-8bb9217e4b25"
      },
      "execution_count": 58,
      "outputs": [
        {
          "output_type": "display_data",
          "data": {
            "image/jpeg": "[encoded data removed]",
            "text/plain": [
              "<IPython.core.display.Image object>"
            ]
          },
          "metadata": {}
        }
      ]
    },
    {
      "cell_type": "code",
      "source": [
        "# Define a modified 'to_markdown' function that handles both strings and dictionary-like objects\n",
        "def to_markdown(data) -> Markdown:\n",
        "    # Check if the data is a string\n",
        "    if isinstance(data, str):\n",
        "        # Replace bullet points and indent for Markdown\n",
        "        text = data.replace(\"•\", \"  *\")\n",
        "        return Markdown(textwrap.indent(text, \"> \", predicate=lambda _: True))\n",
        "\n",
        "    # If the data is a dictionary-like object, format it for Markdown\n",
        "    elif isinstance(data, dict):\n",
        "        # Create a formatted string with keys and values\n",
        "        formatted_text = \"\"\n",
        "        for key, value in data.items():\n",
        "            # Replace bullet points in values, if they are strings\n",
        "            if isinstance(value, str):\n",
        "                value = value.replace(\"•\", \"  *\")\n",
        "            # Indent keys and values for Markdown formatting\n",
        "            formatted_text += f\"> **{key}**:\\n\"\n",
        "            formatted_text += textwrap.indent(str(value), \">   \") + \"\\n\\n\"\n",
        "\n",
        "        return Markdown(formatted_text)\n",
        "\n",
        "    # If the data is of an unsupported type, raise an error\n",
        "    else:\n",
        "        raise ValueError(\"Unsupported data type for to_markdown function\")\n"
      ],
      "metadata": {
        "id": "vJUp3bwTRwgN"
      },
      "execution_count": 69,
      "outputs": []
    },
    {
      "cell_type": "code",
      "source": [
        "# Invoke the Graph\n",
        "\n",
        "text = \"\"\"\n",
        "Intelligent Agents (IA) are a fundamental concept in artificial intelligence that has gained immense popularity in various industries. An Intelligent Agent can be thought of as a software entity designed to perceive its environment and take actions that maximize its chances of successfully achieving a goal. Unlike simple automated programs, IA agents are built to learn, adapt, and operate autonomously, making them versatile and applicable to many real-world problems.\n",
        "\n",
        "IA agents come in different forms, each with a specific set of capabilities that enable them to work effectively within their domains. One common example is the reactive agent, which bases its actions purely on the current state of its environment. This kind of agent does not store or process memories of past actions but instead reacts to changing stimuli directly. Simple rule-based bots used for navigating basic environments fall into this category.\n",
        "\n",
        "In contrast, more sophisticated IA agents can maintain an internal state, allowing them to make decisions based not just on the present but also on past experiences. These agents are often termed deliberative agents, as they consider the implications of different choices over time to achieve their objectives. Deliberative agents use planning and optimization techniques to identify the sequence of actions that will lead to a desired outcome.\n",
        "\n",
        "Another crucial category of IA agents is learning agents. These agents are capable of improving their behavior over time. A learning agent can modify its rules or policies based on feedback, allowing it to become more efficient in completing tasks. Machine learning algorithms, such as reinforcement learning, are often integrated into IA agents to help them learn from success or failure in their tasks. AlphaGo, a game-playing agent developed by DeepMind, is an excellent example of a learning agent that was able to outperform expert human players by continuously improving its strategies.\n",
        "\n",
        "IA agents can also be multi-agent systems, where several agents collaborate or compete to accomplish goals. In multi-agent systems, agents can share information and coordinate their actions, leading to a collective intelligence capable of solving complex problems that would be too challenging for a single agent. For instance, self-driving cars in a smart transportation network can work together to prevent traffic congestion by communicating in real-time, adjusting their speeds, and choosing routes dynamically.\n",
        "\"\"\""
      ],
      "metadata": {
        "id": "xbViGo_rRxc5"
      },
      "execution_count": 70,
      "outputs": []
    },
    {
      "cell_type": "code",
      "source": [
        "output = graph.invoke({\"text\": text})"
      ],
      "metadata": {
        "colab": {
          "base_uri": "https://localhost:8080/"
        },
        "id": "i6r-QK7qRz1h",
        "outputId": "b83cf222-e3ce-4566-baef-7f24a16c8a08"
      },
      "execution_count": 66,
      "outputs": [
        {
          "output_type": "stream",
          "name": "stdout",
          "text": [
            "--Classification-- {'text': '\\nIntelligent Agents (IA) are a fundamental concept in artificial intelligence that has gained immense popularity in various industries. An Intelligent Agent can be thought of as a software entity designed to perceive its environment and take actions that maximize its chances of successfully achieving a goal. Unlike simple automated programs, IA agents are built to learn, adapt, and operate autonomously, making them versatile and applicable to many real-world problems.\\n\\nIA agents come in different forms, each with a specific set of capabilities that enable them to work effectively within their domains. One common example is the reactive agent, which bases its actions purely on the current state of its environment. This kind of agent does not store or process memories of past actions but instead reacts to changing stimuli directly. Simple rule-based bots used for navigating basic environments fall into this category.\\n\\nIn contrast, more sophisticated IA agents can maintain an internal state, allowing them to make decisions based not just on the present but also on past experiences. These agents are often termed deliberative agents, as they consider the implications of different choices over time to achieve their objectives. Deliberative agents use planning and optimization techniques to identify the sequence of actions that will lead to a desired outcome.\\n\\nAnother crucial category of IA agents is learning agents. These agents are capable of improving their behavior over time. A learning agent can modify its rules or policies based on feedback, allowing it to become more efficient in completing tasks. Machine learning algorithms, such as reinforcement learning, are often integrated into IA agents to help them learn from success or failure in their tasks. AlphaGo, a game-playing agent developed by DeepMind, is an excellent example of a learning agent that was able to outperform expert human players by continuously improving its strategies.\\n\\nIA agents can also be multi-agent systems, where several agents collaborate or compete to accomplish goals. In multi-agent systems, agents can share information and coordinate their actions, leading to a collective intelligence capable of solving complex problems that would be too challenging for a single agent. For instance, self-driving cars in a smart transportation network can work together to prevent traffic congestion by communicating in real-time, adjusting their speeds, and choosing routes dynamically.\\n'}\n",
            "--Extraction-- {'text': '\\nIntelligent Agents (IA) are a fundamental concept in artificial intelligence that has gained immense popularity in various industries. An Intelligent Agent can be thought of as a software entity designed to perceive its environment and take actions that maximize its chances of successfully achieving a goal. Unlike simple automated programs, IA agents are built to learn, adapt, and operate autonomously, making them versatile and applicable to many real-world problems.\\n\\nIA agents come in different forms, each with a specific set of capabilities that enable them to work effectively within their domains. One common example is the reactive agent, which bases its actions purely on the current state of its environment. This kind of agent does not store or process memories of past actions but instead reacts to changing stimuli directly. Simple rule-based bots used for navigating basic environments fall into this category.\\n\\nIn contrast, more sophisticated IA agents can maintain an internal state, allowing them to make decisions based not just on the present but also on past experiences. These agents are often termed deliberative agents, as they consider the implications of different choices over time to achieve their objectives. Deliberative agents use planning and optimization techniques to identify the sequence of actions that will lead to a desired outcome.\\n\\nAnother crucial category of IA agents is learning agents. These agents are capable of improving their behavior over time. A learning agent can modify its rules or policies based on feedback, allowing it to become more efficient in completing tasks. Machine learning algorithms, such as reinforcement learning, are often integrated into IA agents to help them learn from success or failure in their tasks. AlphaGo, a game-playing agent developed by DeepMind, is an excellent example of a learning agent that was able to outperform expert human players by continuously improving its strategies.\\n\\nIA agents can also be multi-agent systems, where several agents collaborate or compete to accomplish goals. In multi-agent systems, agents can share information and coordinate their actions, leading to a collective intelligence capable of solving complex problems that would be too challenging for a single agent. For instance, self-driving cars in a smart transportation network can work together to prevent traffic congestion by communicating in real-time, adjusting their speeds, and choosing routes dynamically.\\n', 'classification': 'ARTICLE \\n'}\n",
            "--Summary-- {'text': '\\nIntelligent Agents (IA) are a fundamental concept in artificial intelligence that has gained immense popularity in various industries. An Intelligent Agent can be thought of as a software entity designed to perceive its environment and take actions that maximize its chances of successfully achieving a goal. Unlike simple automated programs, IA agents are built to learn, adapt, and operate autonomously, making them versatile and applicable to many real-world problems.\\n\\nIA agents come in different forms, each with a specific set of capabilities that enable them to work effectively within their domains. One common example is the reactive agent, which bases its actions purely on the current state of its environment. This kind of agent does not store or process memories of past actions but instead reacts to changing stimuli directly. Simple rule-based bots used for navigating basic environments fall into this category.\\n\\nIn contrast, more sophisticated IA agents can maintain an internal state, allowing them to make decisions based not just on the present but also on past experiences. These agents are often termed deliberative agents, as they consider the implications of different choices over time to achieve their objectives. Deliberative agents use planning and optimization techniques to identify the sequence of actions that will lead to a desired outcome.\\n\\nAnother crucial category of IA agents is learning agents. These agents are capable of improving their behavior over time. A learning agent can modify its rules or policies based on feedback, allowing it to become more efficient in completing tasks. Machine learning algorithms, such as reinforcement learning, are often integrated into IA agents to help them learn from success or failure in their tasks. AlphaGo, a game-playing agent developed by DeepMind, is an excellent example of a learning agent that was able to outperform expert human players by continuously improving its strategies.\\n\\nIA agents can also be multi-agent systems, where several agents collaborate or compete to accomplish goals. In multi-agent systems, agents can share information and coordinate their actions, leading to a collective intelligence capable of solving complex problems that would be too challenging for a single agent. For instance, self-driving cars in a smart transportation network can work together to prevent traffic congestion by communicating in real-time, adjusting their speeds, and choosing routes dynamically.\\n', 'classification': 'ARTICLE \\n', 'entities': '```json\\n{\"entities\": [\"Intelligent Agents (IA)\", \"artificial intelligence\", \"reactive agent\", \"rule-based bots\", \"deliberative agents\", \"learning agents\", \"machine learning algorithms\", \"reinforcement learning\", \"AlphaGo\", \"DeepMind\", \"multi-agent systems\", \"self-driving cars\", \"smart transportation network\"]}\\n``` \\n'}\n"
          ]
        }
      ]
    },
    {
      "cell_type": "code",
      "source": [
        "markdown_output = to_markdown(output)  # Convert the output to Markdown format\n",
        "\n",
        "# Display the formatted Markdown output\n",
        "markdown_output\n",
        "\n"
      ],
      "metadata": {
        "colab": {
          "base_uri": "https://localhost:8080/",
          "height": 686
        },
        "id": "G8tA09CBUacZ",
        "outputId": "b05afa4d-c56f-44a1-bcc4-7507af32cd24"
      },
      "execution_count": 77,
      "outputs": [
        {
          "output_type": "execute_result",
          "data": {
            "text/plain": [
              "<IPython.core.display.Markdown object>"
            ],
            "text/markdown": "> **text**:\n\n>   Intelligent Agents (IA) are a fundamental concept in artificial intelligence that has gained immense popularity in various industries. An Intelligent Agent can be thought of as a software entity designed to perceive its environment and take actions that maximize its chances of successfully achieving a goal. Unlike simple automated programs, IA agents are built to learn, adapt, and operate autonomously, making them versatile and applicable to many real-world problems.\n\n>   IA agents come in different forms, each with a specific set of capabilities that enable them to work effectively within their domains. One common example is the reactive agent, which bases its actions purely on the current state of its environment. This kind of agent does not store or process memories of past actions but instead reacts to changing stimuli directly. Simple rule-based bots used for navigating basic environments fall into this category.\n\n>   In contrast, more sophisticated IA agents can maintain an internal state, allowing them to make decisions based not just on the present but also on past experiences. These agents are often termed deliberative agents, as they consider the implications of different choices over time to achieve their objectives. Deliberative agents use planning and optimization techniques to identify the sequence of actions that will lead to a desired outcome.\n\n>   Another crucial category of IA agents is learning agents. These agents are capable of improving their behavior over time. A learning agent can modify its rules or policies based on feedback, allowing it to become more efficient in completing tasks. Machine learning algorithms, such as reinforcement learning, are often integrated into IA agents to help them learn from success or failure in their tasks. AlphaGo, a game-playing agent developed by DeepMind, is an excellent example of a learning agent that was able to outperform expert human players by continuously improving its strategies.\n\n>   IA agents can also be multi-agent systems, where several agents collaborate or compete to accomplish goals. In multi-agent systems, agents can share information and coordinate their actions, leading to a collective intelligence capable of solving complex problems that would be too challenging for a single agent. For instance, self-driving cars in a smart transportation network can work together to prevent traffic congestion by communicating in real-time, adjusting their speeds, and choosing routes dynamically.\n\n\n> **classification**:\n>   ARTICLE \n\n\n> **entities**:\n>   ```json\n>   {\"entities\": [\"Intelligent Agents (IA)\", \"artificial intelligence\", \"IA agents\", \"reactive agent\", \"rule-based bots\", \"deliberative agents\", \"learning agents\", \"AlphaGo\", \"DeepMind\", \"multi-agent systems\", \"self-driving cars\", \"smart transportation network\"]}\n>   ``` \n\n\n> **summary**:\n>   Intelligent Agents (IA) are software entities that perceive their environment and act to achieve goals. They are more advanced than automated programs as they can learn, adapt, and operate autonomously. IA agents come in different forms, including reactive agents that react to immediate stimuli, deliberative agents that consider past experiences, and learning agents that improve their behavior over time. Learning agents use machine learning to adapt based on feedback, exemplified by AlphaGo, which surpassed human players in Go. IA agents can also form multi-agent systems, where multiple agents collaborate or compete, like self-driving cars in a smart transportation network. These systems demonstrate the potential of IA to solve complex problems through collective intelligence. \n\n\n"
          },
          "metadata": {},
          "execution_count": 77
        }
      ]
    }
  ]
}