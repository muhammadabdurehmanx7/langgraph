{
  "nbformat": 4,
  "nbformat_minor": 0,
  "metadata": {
    "colab": {
      "provenance": []
    },
    "kernelspec": {
      "name": "python3",
      "display_name": "Python 3"
    },
    "language_info": {
      "name": "python"
    }
  },
  "cells": [
    {
      "cell_type": "code",
      "execution_count": 2,
      "metadata": {
        "id": "Htj1xEZs6bRo"
      },
      "outputs": [],
      "source": [
        "%%capture --no-stderr\n",
        "%pip install -q -U langgraph langchain-google-genai\n"
      ]
    },
    {
      "cell_type": "code",
      "source": [
        "from google.colab import userdata\n",
        "google_api_key = userdata.get('GEMINI_API_KEY')"
      ],
      "metadata": {
        "id": "1eK-l8Ah8W-8"
      },
      "execution_count": 3,
      "outputs": []
    },
    {
      "cell_type": "code",
      "source": [
        "from langchain_google_genai import ChatGoogleGenerativeAI\n",
        "llm:ChatGoogleGenerativeAI=ChatGoogleGenerativeAI(\n",
        "    model = \"gemini-1.5-flash\",\n",
        "    api_key= google_api_key\n",
        ")\n"
      ],
      "metadata": {
        "id": "Zi_caMaE77Ke"
      },
      "execution_count": 4,
      "outputs": []
    },
    {
      "cell_type": "code",
      "source": [
        "from typing import Annotated\n",
        "from langgraph.graph.message import add_messages\n",
        "from typing import TypedDict\n",
        "class TravelState(TypedDict):\n",
        "  messages : Annotated[list, add_messages]\n",
        "  city : str\n",
        "  interests : list[str]\n",
        "  itinerary : str\n",
        "  days : int\n",
        "  persons : int"
      ],
      "metadata": {
        "id": "J3K40qpH8lH4"
      },
      "execution_count": 5,
      "outputs": []
    },
    {
      "cell_type": "code",
      "source": [
        "from langchain_core.messages import HumanMessage, AIMessage\n",
        "def get_city_input(state : TravelState):\n",
        "  \"\"\"Prompts the user to enter the city they want to visit.\"\"\"\n",
        "  print(\"Enter the city you want to visit:\")\n",
        "  city = input(\"City:\")\n",
        "  return {\n",
        "      \"city\" : city,\n",
        "      \"messages\" : state['messages'] + [HumanMessage(content=city)]\n",
        "      }"
      ],
      "metadata": {
        "id": "Asam7D529IhB"
      },
      "execution_count": 6,
      "outputs": []
    },
    {
      "cell_type": "code",
      "source": [
        "def get_number_of_days(state: TravelState):\n",
        "  \"\"\"Prompts the user to enter the number of days for the trip.\"\"\"\n",
        "  print(f\"Please enter the number of days for your trip to {state['city']}:\")\n",
        "  num_days = input(\"Number of Days:\")\n",
        "  return {\n",
        "      \"days\": num_days,\n",
        "      \"messages\" : state['messages'] + [HumanMessage(content=num_days)]\n",
        "          }"
      ],
      "metadata": {
        "id": "cHC0jKhPXwL9"
      },
      "execution_count": 7,
      "outputs": []
    },
    {
      "cell_type": "code",
      "source": [
        "def get_number_of_persons(state: TravelState):\n",
        "  \"\"\"Prompts the user to enter the number of persons for the trip.\"\"\"\n",
        "  print(f\"Enter the number of persons for the trip to {state['city']}:\")\n",
        "  num_persons = input(\"Number of Persons:\")\n",
        "  return {\n",
        "      \"persons\": num_persons,\n",
        "      \"messages\" : state['messages'] + [HumanMessage(content=num_persons)]\n",
        "          }"
      ],
      "metadata": {
        "id": "Iq4r5XmEX8li"
      },
      "execution_count": 8,
      "outputs": []
    },
    {
      "cell_type": "code",
      "source": [
        "def get_interests_input(state: TravelState):\n",
        "  \"\"\"Prompts the user to enter their interests for the trip.\"\"\"\n",
        "  print(f\"Enter your interests fot the trip to {state['city']}\")\n",
        "  interests = input(\"Interests (comma-separated): \")\n",
        "  return {\n",
        "      \"interests\": [interests],\n",
        "      \"messages\" : state['messages'] + [HumanMessage(content=interests)]\n",
        "          }"
      ],
      "metadata": {
        "id": "T8fy2spx97Tl"
      },
      "execution_count": 9,
      "outputs": []
    },
    {
      "cell_type": "code",
      "source": [
        "from langchain_core.messages import SystemMessage, HumanMessage\n",
        "def itinerary_generation(state : TravelState):\n",
        "  \"\"\"Generates an itinerary for the user's trip.\"\"\"\n",
        "  city = state[\"city\"]\n",
        "  interests = state[\"interests\"]\n",
        "  days = state[\"days\"]\n",
        "  persons = state[\"persons\"]\n",
        "\n",
        "  print(f\"Generating a {days}-day itinerary for {city}, tailored to the interests: {interests}.\")\n",
        "  prompt = f\"\"\"Create a personalized trip itinerary tailored to the user based on the provided city, interests, number of days, and number of persons. Include activities,\n",
        "   dining recommendations, and sightseeing spots that align with the interests, ensuring the itinerary is well-paced and enjoyable.\n",
        "    City: {city}, Interests: {interests}, Number of Days: {days}, Number of Persons: {persons}.\"\"\"\n",
        "  response =  generation = llm.invoke(prompt.format(city=city, interests=interests))\n",
        "\n",
        "  print(\"\\nFinal Itinerary:\")\n",
        "  print(response.content)\n",
        "\n",
        "  return {\n",
        "      \"itinerary\": response,\n",
        "      \"messages\" : state['messages'] + [AIMessage(content=response.content)]\n",
        "          }\n",
        "\n",
        "\n"
      ],
      "metadata": {
        "id": "kOhm_hWn-WWe"
      },
      "execution_count": 15,
      "outputs": []
    },
    {
      "cell_type": "code",
      "source": [
        "from langgraph.graph import StateGraph, START, END\n",
        "\n",
        "builder: StateGraph = StateGraph(TravelState)\n",
        "\n",
        "builder.add_node(\"City\", get_city_input)\n",
        "builder.add_node(\"Days\", get_number_of_days)\n",
        "builder.add_node(\"Persons\", get_number_of_persons)\n",
        "builder.add_node(\"Interests\", get_interests_input)\n",
        "builder.add_node(\"Itinerary\", itinerary_generation)\n",
        "\n",
        "builder.add_edge(START, \"City\")\n",
        "builder.add_edge(\"City\", \"Days\")\n",
        "builder.add_edge(\"Days\", \"Persons\")\n",
        "builder.add_edge(\"Persons\", \"Interests\")\n",
        "builder.add_edge(\"Interests\", \"Itinerary\")\n",
        "builder.add_edge(\"Itinerary\", END)\n",
        "graph = builder.compile()"
      ],
      "metadata": {
        "id": "Mgv1uG0LBNUE"
      },
      "execution_count": 16,
      "outputs": []
    },
    {
      "cell_type": "code",
      "source": [
        "from IPython.display import Image, display\n",
        "display(Image(graph.get_graph().draw_mermaid_png()))"
      ],
      "metadata": {
        "colab": {
          "base_uri": "https://localhost:8080/",
          "height": 647
        },
        "id": "mothXIiwCjij",
        "outputId": "971ce864-1200-4579-c5e0-762b04657550"
      },
      "execution_count": 12,
      "outputs": [
        {
          "output_type": "display_data",
          "data": {
            "image/png": "[encoded data removed]",
            "text/plain": [
              "<IPython.core.display.Image object>"
            ]
          },
          "metadata": {}
        }
      ]
    },
    {
      "cell_type": "code",
      "source": [
        "def run_travel_planner(user_request: str):\n",
        "    print(f\"Initial Request: {user_request}\\n\")\n",
        "    state = {\n",
        "        \"city\": \"\",\n",
        "        \"interests\": [],\n",
        "        \"itinerary\": \"\",\n",
        "    }\n",
        "\n",
        "    for output in graph.stream(state):\n",
        "        pass  # The nodes themselves now handle all printing"
      ],
      "metadata": {
        "id": "SDRwHU_TCqpk"
      },
      "execution_count": 17,
      "outputs": []
    },
    {
      "cell_type": "code",
      "source": [
        "user_request = \"I want to plan a day trip.\"\n",
        "run_travel_planner(user_request)\n"
      ],
      "metadata": {
        "colab": {
          "base_uri": "https://localhost:8080/"
        },
        "id": "m8Iz6T7REkAn",
        "outputId": "e2ef0adb-ea0d-44ff-9fb8-ec517e7c157d"
      },
      "execution_count": 19,
      "outputs": [
        {
          "output_type": "stream",
          "name": "stdout",
          "text": [
            "Initial Request: I want to plan a day trip.\n",
            "\n",
            "Enter the city you want to visit:\n",
            "City:New York\n",
            "Please enter the number of days for your trip to New York:\n",
            "Number of Days:3\n",
            "Enter the number of persons for the trip to New York:\n",
            "Number of Persons:2\n",
            "Enter your interests fot the trip to New York\n",
            "Interests (comma-separated): I want to explore the city, I want to try new food\n",
            "Generating a 3-day itinerary for New York, tailored to the interests: ['I want to explore the city, I want to try new food'].\n",
            "\n",
            "Final Itinerary:\n",
            "## New York City Adventure for Two: 3-Day Itinerary\n",
            "\n",
            "This itinerary focuses on exploring NYC and indulging in diverse culinary experiences, perfect for a couple with 3 days to spare.  It balances iconic sights with opportunities for spontaneous discovery.\n",
            "\n",
            "**Day 1: Midtown Marvels & Culinary Delights**\n",
            "\n",
            "* **Morning (9:00 AM):** Start your day at **Times Square**, soak in the energy, and grab a quick coffee and pastry from a local bakery.\n",
            "* **Late Morning (10:30 AM):** Visit the **Top of the Rock Observation Deck** at Rockefeller Center for breathtaking panoramic views of the city.  Pre-booking tickets is recommended.\n",
            "* **Lunch (12:30 PM):** Enjoy a casual lunch at a Halal cart – a quintessential NYC experience.  Choose from various options like chicken and rice or gyro.\n",
            "* **Afternoon (2:00 PM):** Explore **Central Park**.  Take a stroll, rent a rowboat on The Lake, or simply relax and people-watch.\n",
            "* **Late Afternoon (4:00 PM):** Visit the **Museum of Modern Art (MoMA)**. Focus on the highlights to avoid feeling overwhelmed.\n",
            "* **Dinner (7:00 PM):** Indulge in a delicious Italian dinner in **Little Italy**.  Many family-run restaurants offer authentic and affordable meals.  Consider making a reservation.\n",
            "* **Evening (8:30 PM):** Take a leisurely walk through **Chinatown**, enjoying the vibrant atmosphere and perhaps grabbing some late-night dessert.\n",
            "\n",
            "\n",
            "**Day 2: Downtown Exploration & Brooklyn Bridge**\n",
            "\n",
            "* **Morning (9:00 AM):** Take the subway downtown to visit the **9/11 Memorial & Museum**. Allow ample time for reflection and exploration.  This is a powerful and moving experience.\n",
            "* **Lunch (12:00 PM):** Grab a quick and tasty lunch at **Eataly Downtown**, a large Italian marketplace with various food stalls.\n",
            "* **Afternoon (1:30 PM):** Walk across the **Brooklyn Bridge**, enjoying stunning city views. Start from the Brooklyn side for the best photo opportunities.\n",
            "* **Late Afternoon (3:30 PM):** Explore **DUMBO**, a trendy Brooklyn neighborhood with cobblestone streets, art galleries, and stunning views of the Manhattan skyline.\n",
            "* **Dinner (6:00 PM):** Enjoy dinner in DUMBO.  There are many restaurants with diverse cuisines offering waterfront views.  Consider Grimaldi's Pizzeria for classic New York pizza.\n",
            "* **Evening (8:00 PM):**  Enjoy a drink at a rooftop bar in DUMBO with spectacular city views.\n",
            "\n",
            "\n",
            "**Day 3: Greenwich Village Charm & Departure**\n",
            "\n",
            "* **Morning (9:00 AM):** Explore **Greenwich Village**, known for its charming streets, independent shops, and bohemian atmosphere.\n",
            "* **Brunch (11:00 AM):** Enjoy a delicious brunch at a cafe in Greenwich Village.  Many offer unique and creative brunch options.\n",
            "* **Afternoon (1:00 PM):** Visit **Washington Square Park**, a lively hub for street performers and artists.\n",
            "* **Late Afternoon (2:30 PM):** Depending on your flight time, you could squeeze in a visit to the **High Line**, an elevated park built on former railway lines, offering unique city perspectives.\n",
            "* **Dinner (5:00 PM):**  Enjoy a final New York meal – perhaps a classic New York-style deli sandwich before heading to the airport.\n",
            "\n",
            "\n",
            "**Dining Recommendations (Beyond those listed above):**\n",
            "\n",
            "* **Diverse Food Halls:** Chelsea Market, Time Out Market\n",
            "* **Ethnic Enclaves:** Koreatown (for Korean BBQ), Jackson Heights (for Indian food)\n",
            "* **Fine Dining (if budget allows):**  Consider making reservations well in advance for a special occasion dinner.\n",
            "\n",
            "\n",
            "**Notes:**\n",
            "\n",
            "* This itinerary is a suggestion and can be adapted to your preferences.\n",
            "* Purchase a 7-day unlimited MetroCard for easy and affordable transportation.\n",
            "* Wear comfortable shoes – you'll be doing a lot of walking!\n",
            "* Book accommodations and popular attractions in advance, especially during peak season.\n",
            "* Be prepared for all types of weather.\n",
            "\n",
            "\n",
            "Enjoy your New York City adventure!\n",
            "\n"
          ]
        }
      ]
    }
  ]
}