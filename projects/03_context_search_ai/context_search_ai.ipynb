{
  "nbformat": 4,
  "nbformat_minor": 0,
  "metadata": {
    "colab": {
      "provenance": []
    },
    "kernelspec": {
      "name": "python3",
      "display_name": "Python 3"
    },
    "language_info": {
      "name": "python"
    }
  },
  "cells": [
    {
      "cell_type": "code",
      "execution_count": 1,
      "metadata": {
        "id": "wNtVOmp_6oSJ"
      },
      "outputs": [],
      "source": [
        "%%capture --no-stderr\n",
        "%pip install --quiet -U langgraph\n",
        "%pip unstall -q -U langchain\n",
        "%pip install -q -U langchain-google-genai\n",
        "%pip install -U  langgraph tavily-python wikipedia langchain_community langgraph_sdk\n"
      ]
    },
    {
      "cell_type": "code",
      "source": [
        "from google.colab import userdata\n",
        "google_api_key = userdata.get('GEMINI_API_KEY')\n"
      ],
      "metadata": {
        "id": "S2JAP5P0717n"
      },
      "execution_count": 34,
      "outputs": []
    },
    {
      "cell_type": "code",
      "source": [
        "from langchain_google_genai import ChatGoogleGenerativeAI\n",
        "\n",
        "# Initialize an instance of the ChatGoogleGenerativeAI with specific parameters\n",
        "llm: ChatGoogleGenerativeAI = ChatGoogleGenerativeAI(\n",
        "    model=\"gemini-1.5-flash\",  # Specify the model to use\n",
        "    api_key=google_api_key,     # Provide the Google API key for authentication\n",
        ")"
      ],
      "metadata": {
        "id": "OlXHCy_07-IC"
      },
      "execution_count": 35,
      "outputs": []
    },
    {
      "cell_type": "code",
      "source": [
        "from typing_extensions import TypedDict\n",
        "from typing_extensions import Annotated\n",
        "import operator\n",
        "\n",
        "class State(TypedDict):\n",
        "  question:str\n",
        "  answer:str\n",
        "  context: Annotated[list, operator.add]\n",
        ""
      ],
      "metadata": {
        "id": "H-OgSxSl9MVk"
      },
      "execution_count": 4,
      "outputs": []
    },
    {
      "cell_type": "code",
      "source": [
        "import os\n",
        "# Enter your Tavily API key\n",
        "os.environ[\"TAVILY_API_KEY\"] = \"your_api_key\""
      ],
      "metadata": {
        "id": "h_Kcz3ag-SNq"
      },
      "execution_count": 13,
      "outputs": []
    },
    {
      "cell_type": "code",
      "source": [
        "from langchain_core.messages import HumanMessage, SystemMessage, SystemMessage, HumanMessage\n",
        "\n",
        "from langchain_community.document_loaders import WikipediaLoader\n",
        "from langchain_community.tools.tavily_search import TavilySearchResults\n",
        "\n",
        "def search_tavily(state:State):\n",
        "\n",
        " tavily_search = TavilySearchResults(max_results=3)\n",
        " search_docs = tavily_search.invoke(state['question'])\n",
        "\n",
        " formmated_docs = \"\\n\\n---\\n\\n\".join(\n",
        "        [\n",
        "            f'<Document href=\"{doc[\"url\"]}\"/>\\n{doc[\"content\"]}\\n</Document>'\n",
        "            for doc in search_docs\n",
        "        ]\n",
        "    )\n",
        " return {\"context\":[formmated_docs]}\n",
        "\n",
        "def search_wikipedia(state:State):\n",
        "  search_docs = WikipediaLoader(query=state['question'], load_max_docs=3).load()\n",
        "  formatted_docs = \"\\n\\n---\\n\\n\".join(\n",
        "        [\n",
        "            f'<Document source=\"{doc.metadata[\"source\"]}\" page=\"{doc.metadata.get(\"page\", \"\")}\"/>\\n{doc.page_content}\\n</Document>'\n",
        "            for doc in search_docs\n",
        "        ]\n",
        "    )\n",
        "  return {\"context\":[formatted_docs]}\n"
      ],
      "metadata": {
        "id": "zqb5fOm3_OcJ"
      },
      "execution_count": 24,
      "outputs": []
    },
    {
      "cell_type": "code",
      "source": [
        "def generate_answer(state:State):\n",
        "  question=state['question']\n",
        "  context=state['context']\n",
        "  answer_template = \"\"\"Generate the answer of this {question} with this {context}\"\"\"\n",
        "  answer_instructions = answer_template.format(question=question,context=context)\n",
        "\n",
        "  answer = llm.invoke([SystemMessage(content=answer_instructions)]+[HumanMessage(content=\"Answer the Question\")])\n",
        "\n",
        "  return {\"answer\":answer}\n",
        ""
      ],
      "metadata": {
        "id": "ijCeJJmuD4ia"
      },
      "execution_count": 39,
      "outputs": []
    },
    {
      "cell_type": "code",
      "source": [
        "from langgraph.graph import START, StateGraph, END\n",
        "from IPython.display import display, Image\n",
        "\n",
        "builder = StateGraph(State)\n",
        "builder.add_node(\"search_tavily\", search_tavily)\n",
        "builder.add_node(\"search_wikipedia\", search_wikipedia)\n",
        "builder.add_node(\"generate_answer\", generate_answer)\n",
        "\n",
        "builder.add_edge(START, \"search_tavily\")\n",
        "builder.add_edge(START, \"search_wikipedia\")\n",
        "builder.add_edge(\"search_tavily\",\"generate_answer\")\n",
        "builder.add_edge(\"search_wikipedia\",\"generate_answer\")\n",
        "builder.add_edge(\"generate_answer\", END)\n",
        "\n",
        "graph = builder.compile()\n",
        "\n",
        "display(Image(graph.get_graph().draw_mermaid_png()))"
      ],
      "metadata": {
        "id": "PtF-HTQk495L",
        "outputId": "cac327fa-cbb3-4d1e-9bbe-bd5e86e1be48",
        "colab": {
          "base_uri": "https://localhost:8080/",
          "height": 350
        }
      },
      "execution_count": 40,
      "outputs": [
        {
          "output_type": "display_data",
          "data": {
            "image/jpeg": "[encoded data removed]",
            "text/plain": [
              "<IPython.core.display.Image object>"
            ]
          },
          "metadata": {}
        }
      ]
    },
    {
      "cell_type": "code",
      "source": [
        "result = graph.invoke({\"question\": \"What were the key financial results for Nvidia in Q2 2024?\"})\n",
        "result[\"answer\"].content\n"
      ],
      "metadata": {
        "id": "YkB6BRXe8uyj",
        "outputId": "54f2f4ef-7953-4a80-b965-48ec90bf4aa6",
        "colab": {
          "base_uri": "https://localhost:8080/",
          "height": 89
        }
      },
      "execution_count": 44,
      "outputs": [
        {
          "output_type": "execute_result",
          "data": {
            "text/plain": [
              "\"Here are the key financial results for Nvidia in Q2 2024, based on the provided documents:\\n\\n* **Revenue:** $13.51 billion, more than double the revenue from the same quarter last year.\\n* **GAAP Net Income:** $6.2 billion, or $2.48 per share, a significant increase from $656 million, or $0.26 per share, in Q2 2023.\\n* **Adjusted EPS:** $2.70.\\n* **Q3 2024 Revenue Guidance:** Nvidia expects revenue of $16 billion for the third quarter of 2024.\\n\\nThese results highlight Nvidia's strong performance, driven by high demand for its data center products, particularly those based on the Hopper architecture. \\n\""
            ],
            "application/vnd.google.colaboratory.intrinsic+json": {
              "type": "string"
            }
          },
          "metadata": {},
          "execution_count": 44
        }
      ]
    }
  ]
}